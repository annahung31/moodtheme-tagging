{
 "cells": [
  {
   "cell_type": "code",
   "execution_count": 78,
   "metadata": {},
   "outputs": [],
   "source": [
    "import numpy as np"
   ]
  },
  {
   "cell_type": "code",
   "execution_count": 79,
   "metadata": {},
   "outputs": [
    {
     "name": "stdout",
     "output_type": "stream",
     "text": [
      "adventure <-> action\n",
      "powerful <-> action\n",
      "commercial <-> advertising\n",
      "corporate <-> advertising\n",
      "documentary <-> advertising\n",
      "happy <-> advertising\n",
      "motivational <-> advertising\n",
      "documentary <-> background\n",
      "soundscape <-> background\n",
      "relaxing <-> calm\n",
      "soft <-> calm\n",
      "christmas <-> children\n",
      "funny <-> children\n",
      "holiday <-> christmas\n",
      "inspiring <-> christmas\n",
      "positive <-> christmas\n",
      "corporate <-> commercial\n",
      "fun <-> cool\n",
      "groovy <-> cool\n",
      "inspiring <-> corporate\n",
      "motivational <-> corporate\n",
      "positive <-> corporate\n",
      "upbeat <-> corporate\n",
      "uplifting <-> corporate\n",
      "sad <-> dark\n",
      "summer <-> deep\n",
      "epic <-> dramatic\n",
      "powerful <-> dramatic\n",
      "relaxing <-> dream\n",
      "soft <-> dream\n",
      "film <-> emotional\n",
      "motivational <-> energetic\n",
      "film <-> epic\n",
      "inspiring <-> epic\n",
      "powerful <-> epic\n",
      "trailer <-> epic\n",
      "meditative <-> film\n",
      "groovy <-> fun\n",
      "happy <-> fun\n",
      "motivational <-> fun\n",
      "party <-> fun\n",
      "positive <-> fun\n",
      "movie <-> game\n",
      "inspiring <-> happy\n",
      "motivational <-> happy\n",
      "positive <-> happy\n",
      "summer <-> happy\n",
      "motivational <-> inspiring\n",
      "positive <-> inspiring\n",
      "upbeat <-> inspiring\n",
      "uplifting <-> inspiring\n",
      "romantic <-> love\n",
      "sad <-> love\n",
      "slow <-> love\n",
      "relaxing <-> meditative\n",
      "slow <-> melancholic\n",
      "positive <-> motivational\n",
      "upbeat <-> motivational\n",
      "uplifting <-> motivational\n",
      "retro <-> movie\n",
      "upbeat <-> positive\n",
      "uplifting <-> powerful\n",
      "soft <-> relaxing\n",
      "uplifting <-> upbeat\n"
     ]
    }
   ],
   "source": [
    "test_bi = np.load('test_bi_direction.npy')\n",
    "for i in range(len(test_bi)):\n",
    "    print(test_bi[i][0],'<->', test_bi[i][1])"
   ]
  },
  {
   "cell_type": "code",
   "execution_count": 80,
   "metadata": {},
   "outputs": [],
   "source": [
    "test_bi_all = test_bi.reshape(-1,1)\n",
    "bi_list = set(test_bi_all.flatten())"
   ]
  },
  {
   "cell_type": "code",
   "execution_count": 76,
   "metadata": {},
   "outputs": [
    {
     "name": "stdout",
     "output_type": "stream",
     "text": [
      "action -> adventure\n",
      "soundscape -> background\n",
      "fun -> children\n",
      "funny -> children\n",
      "holiday -> christmas\n",
      "upbeat -> corporate\n",
      "dramatic -> dark\n",
      "heavy -> dark\n",
      "background -> documentary\n",
      "soundscape -> documentary\n",
      "travel -> documentary\n",
      "drama -> emotional\n",
      "action -> energetic\n",
      "fast -> energetic\n",
      "fun -> energetic\n",
      "powerful -> energetic\n",
      "sport -> energetic\n",
      "action -> epic\n",
      "dramatic -> epic\n",
      "powerful -> epic\n",
      "trailer -> epic\n",
      "documentary -> film\n",
      "epic -> film\n",
      "meditative -> film\n",
      "movie -> film\n",
      "trailer -> film\n",
      "cool -> fun\n",
      "groovy -> fun\n",
      "advertising -> happy\n",
      "cool -> happy\n",
      "deep -> happy\n",
      "fun -> happy\n",
      "party -> happy\n",
      "positive -> happy\n",
      "summer -> happy\n",
      "upbeat -> happy\n",
      "hopeful -> inspiring\n",
      "positive -> inspiring\n",
      "upbeat -> inspiring\n",
      "uplifting -> inspiring\n",
      "sexy -> love\n",
      "slow -> love\n",
      "calm -> melodic\n",
      "groovy -> melodic\n",
      "cool -> motivational\n",
      "fun -> motivational\n",
      "groovy -> motivational\n",
      "hopeful -> motivational\n",
      "party -> motivational\n",
      "positive -> motivational\n",
      "upbeat -> motivational\n",
      "uplifting -> motivational\n",
      "game -> movie\n",
      "retro -> movie\n",
      "fun -> positive\n",
      "calm -> relaxing\n",
      "dream -> relaxing\n",
      "meditative -> relaxing\n",
      "melancholic -> sad\n",
      "calm -> soft\n",
      "hopeful -> uplifting\n"
     ]
    }
   ],
   "source": [
    "test_uni = np.load('test_uni_direction.npy')\n",
    "for i in range(len(test_uni)):\n",
    "    print(test_uni[i][0],'->', test_uni[i][1])"
   ]
  },
  {
   "cell_type": "code",
   "execution_count": 61,
   "metadata": {},
   "outputs": [],
   "source": [
    "nui_b = set(test_uni[:,1].flatten())"
   ]
  },
  {
   "cell_type": "code",
   "execution_count": 81,
   "metadata": {},
   "outputs": [
    {
     "data": {
      "text/plain": [
       "{'action',\n",
       " 'adventure',\n",
       " 'advertising',\n",
       " 'background',\n",
       " 'calm',\n",
       " 'children',\n",
       " 'christmas',\n",
       " 'commercial',\n",
       " 'cool',\n",
       " 'corporate',\n",
       " 'dark',\n",
       " 'deep',\n",
       " 'documentary',\n",
       " 'dramatic',\n",
       " 'dream',\n",
       " 'emotional',\n",
       " 'energetic',\n",
       " 'epic',\n",
       " 'film',\n",
       " 'fun',\n",
       " 'funny',\n",
       " 'game',\n",
       " 'groovy',\n",
       " 'happy',\n",
       " 'holiday',\n",
       " 'inspiring',\n",
       " 'love',\n",
       " 'meditative',\n",
       " 'melancholic',\n",
       " 'motivational',\n",
       " 'movie',\n",
       " 'party',\n",
       " 'positive',\n",
       " 'powerful',\n",
       " 'relaxing',\n",
       " 'retro',\n",
       " 'romantic',\n",
       " 'sad',\n",
       " 'slow',\n",
       " 'soft',\n",
       " 'soundscape',\n",
       " 'summer',\n",
       " 'trailer',\n",
       " 'upbeat',\n",
       " 'uplifting'}"
      ]
     },
     "execution_count": 81,
     "metadata": {},
     "output_type": "execute_result"
    }
   ],
   "source": [
    "bi_list"
   ]
  },
  {
   "cell_type": "code",
   "execution_count": 63,
   "metadata": {},
   "outputs": [
    {
     "data": {
      "text/plain": [
       "{'adventure',\n",
       " 'background',\n",
       " 'children',\n",
       " 'christmas',\n",
       " 'corporate',\n",
       " 'dark',\n",
       " 'documentary',\n",
       " 'emotional',\n",
       " 'energetic',\n",
       " 'epic',\n",
       " 'film',\n",
       " 'fun',\n",
       " 'happy',\n",
       " 'inspiring',\n",
       " 'love',\n",
       " 'melodic',\n",
       " 'motivational',\n",
       " 'movie',\n",
       " 'positive',\n",
       " 'relaxing',\n",
       " 'sad',\n",
       " 'soft',\n",
       " 'uplifting'}"
      ]
     },
     "execution_count": 63,
     "metadata": {},
     "output_type": "execute_result"
    }
   ],
   "source": [
    "nui_b"
   ]
  },
  {
   "cell_type": "code",
   "execution_count": 64,
   "metadata": {},
   "outputs": [],
   "source": [
    "Intersection = bi_list & nui_b"
   ]
  },
  {
   "cell_type": "code",
   "execution_count": 77,
   "metadata": {},
   "outputs": [
    {
     "data": {
      "text/plain": [
       "{'children',\n",
       " 'christmas',\n",
       " 'corporate',\n",
       " 'fun',\n",
       " 'happy',\n",
       " 'inspiring',\n",
       " 'love',\n",
       " 'motivational',\n",
       " 'relaxing',\n",
       " 'soft'}"
      ]
     },
     "execution_count": 77,
     "metadata": {},
     "output_type": "execute_result"
    }
   ],
   "source": [
    "Intersection"
   ]
  },
  {
   "cell_type": "code",
   "execution_count": 65,
   "metadata": {},
   "outputs": [
    {
     "data": {
      "text/plain": [
       "17"
      ]
     },
     "execution_count": 65,
     "metadata": {},
     "output_type": "execute_result"
    }
   ],
   "source": [
    "len(bi_list)"
   ]
  },
  {
   "cell_type": "code",
   "execution_count": 68,
   "metadata": {},
   "outputs": [
    {
     "data": {
      "text/plain": [
       "{'adventure',\n",
       " 'background',\n",
       " 'children',\n",
       " 'christmas',\n",
       " 'corporate',\n",
       " 'dark',\n",
       " 'documentary',\n",
       " 'emotional',\n",
       " 'energetic',\n",
       " 'epic',\n",
       " 'film',\n",
       " 'fun',\n",
       " 'happy',\n",
       " 'inspiring',\n",
       " 'love',\n",
       " 'melodic',\n",
       " 'motivational',\n",
       " 'movie',\n",
       " 'positive',\n",
       " 'relaxing',\n",
       " 'sad',\n",
       " 'soft',\n",
       " 'uplifting'}"
      ]
     },
     "execution_count": 68,
     "metadata": {},
     "output_type": "execute_result"
    }
   ],
   "source": [
    "nui_b"
   ]
  },
  {
   "cell_type": "code",
   "execution_count": 69,
   "metadata": {},
   "outputs": [
    {
     "data": {
      "text/plain": [
       "{'children',\n",
       " 'christmas',\n",
       " 'corporate',\n",
       " 'fun',\n",
       " 'happy',\n",
       " 'inspiring',\n",
       " 'love',\n",
       " 'motivational',\n",
       " 'relaxing',\n",
       " 'soft'}"
      ]
     },
     "execution_count": 69,
     "metadata": {},
     "output_type": "execute_result"
    }
   ],
   "source": [
    "Intersection"
   ]
  },
  {
   "cell_type": "code",
   "execution_count": null,
   "metadata": {},
   "outputs": [],
   "source": []
  }
 ],
 "metadata": {
  "kernelspec": {
   "display_name": "Python 3",
   "language": "python",
   "name": "python3"
  },
  "language_info": {
   "codemirror_mode": {
    "name": "ipython",
    "version": 3
   },
   "file_extension": ".py",
   "mimetype": "text/x-python",
   "name": "python",
   "nbconvert_exporter": "python",
   "pygments_lexer": "ipython3",
   "version": "3.5.6"
  }
 },
 "nbformat": 4,
 "nbformat_minor": 4
}
