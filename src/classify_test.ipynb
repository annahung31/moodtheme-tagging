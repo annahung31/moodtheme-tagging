{
 "cells": [
  {
   "cell_type": "code",
   "execution_count": 30,
   "metadata": {},
   "outputs": [],
   "source": [
    "import numpy as np\n",
    "import random\n",
    "from sklearn import metrics\n",
    "from trainer import Classifier_Trainer"
   ]
  },
  {
   "cell_type": "code",
   "execution_count": 48,
   "metadata": {},
   "outputs": [
    {
     "data": {
      "text/plain": [
       "array([4, 4, 1, 4, 3, 4, 4, 0, 0, 1, 0, 0, 2, 0, 1, 4, 1, 4, 1, 2])"
      ]
     },
     "execution_count": 48,
     "metadata": {},
     "output_type": "execute_result"
    }
   ],
   "source": [
    "out = np.zeros([20, 5])\n",
    "label = np.random.randint(0, 5, 20)\n",
    "label"
   ]
  },
  {
   "cell_type": "code",
   "execution_count": 51,
   "metadata": {},
   "outputs": [],
   "source": [
    "for i in range(20):\n",
    "    y = label[i]\n",
    "    out[i][y] = 1"
   ]
  },
  {
   "cell_type": "code",
   "execution_count": 60,
   "metadata": {},
   "outputs": [],
   "source": [
    "bbb = np.load('/mnt/md0/user_annahung/auto_tagging/mtg-jamendo-dataset/scripts/baseline/split/mood/split-0/tag_list.npy')"
   ]
  },
  {
   "cell_type": "code",
   "execution_count": 62,
   "metadata": {},
   "outputs": [
    {
     "data": {
      "text/plain": [
       "(56,)"
      ]
     },
     "execution_count": 62,
     "metadata": {},
     "output_type": "execute_result"
    }
   ],
   "source": [
    "bbb.shape"
   ]
  },
  {
   "cell_type": "code",
   "execution_count": null,
   "metadata": {},
   "outputs": [],
   "source": []
  },
  {
   "cell_type": "code",
   "execution_count": null,
   "metadata": {},
   "outputs": [],
   "source": []
  },
  {
   "cell_type": "code",
   "execution_count": null,
   "metadata": {},
   "outputs": [],
   "source": []
  },
  {
   "cell_type": "code",
   "execution_count": 53,
   "metadata": {},
   "outputs": [],
   "source": [
    "\n",
    "def get_auc(prd_array, gt_array):\n",
    "    \n",
    "    prd_array = np.array(prd_array)\n",
    "    gt_array = np.array(gt_array)\n",
    "\n",
    "    roc_aucs = metrics.roc_auc_score(gt_array, prd_array, average='macro')\n",
    "    pr_aucs = metrics.average_precision_score(gt_array, prd_array, average='macro')\n",
    "\n",
    "    print('roc_auc: %.4f' % roc_aucs)\n",
    "    print('pr_auc: %.4f' % pr_aucs)\n",
    "\n",
    "    roc_auc_all = metrics.roc_auc_score(gt_array, prd_array, average=None)\n",
    "    pr_auc_all = metrics.average_precision_score(gt_array, prd_array, average=None)\n",
    "\n",
    "    # for i in range(self.num_classes):\n",
    "    #     print('%-35s \\t\\t %.4f , %.4f' % (self.tag_list[i], roc_auc_all[i], pr_auc_all[i]))\n",
    "    return roc_aucs, pr_aucs, roc_auc_all, pr_auc_all\n",
    "\n"
   ]
  },
  {
   "cell_type": "code",
   "execution_count": 54,
   "metadata": {},
   "outputs": [
    {
     "name": "stdout",
     "output_type": "stream",
     "text": [
      "roc_auc: 1.0000\n",
      "pr_auc: 1.0000\n"
     ]
    }
   ],
   "source": [
    "prd_array = []\n",
    "gt_array = []\n",
    "for prd in out:\n",
    "    prd_array.append(list(np.array(prd)))\n",
    "for gt in out:\n",
    "    gt_array.append(list(np.array(gt)))\n",
    "\n",
    "        # get auc\n",
    "roc_auc, pr_auc, roc_auc_all, pr_auc_all = get_auc(prd_array, gt_array)\n",
    "\n"
   ]
  },
  {
   "cell_type": "code",
   "execution_count": null,
   "metadata": {},
   "outputs": [],
   "source": []
  }
 ],
 "metadata": {
  "kernelspec": {
   "display_name": "Python 3",
   "language": "python",
   "name": "python3"
  },
  "language_info": {
   "codemirror_mode": {
    "name": "ipython",
    "version": 3
   },
   "file_extension": ".py",
   "mimetype": "text/x-python",
   "name": "python",
   "nbconvert_exporter": "python",
   "pygments_lexer": "ipython3",
   "version": "3.5.6"
  }
 },
 "nbformat": 4,
 "nbformat_minor": 4
}
