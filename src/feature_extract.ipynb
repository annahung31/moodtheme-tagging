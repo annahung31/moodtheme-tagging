{
 "cells": [
  {
   "cell_type": "code",
   "execution_count": 35,
   "metadata": {},
   "outputs": [],
   "source": [
    "import madmom\n",
    "from madmom.features.downbeats import RNNDownBeatProcessor, DBNDownBeatTrackingProcessor\n",
    "import numpy as np\n",
    "import matplotlib.pyplot as plt"
   ]
  },
  {
   "cell_type": "code",
   "execution_count": 52,
   "metadata": {},
   "outputs": [],
   "source": [
    "audio_path = '~/auto_tagging/mtg-jamendo-dataset/scripts/baseline/audio/00/1014400.mp3'\n",
    "audio_path2 = '~/auto_tagging/mtg-jamendo-dataset/scripts/baseline/audio/52/1038652.mp3'"
   ]
  },
  {
   "cell_type": "code",
   "execution_count": 21,
   "metadata": {},
   "outputs": [],
   "source": [
    "proc = DBNDownBeatTrackingProcessor(beats_per_bar=[3, 4], fps=200)\n",
    "act = RNNDownBeatProcessor()"
   ]
  },
  {
   "cell_type": "code",
   "execution_count": 18,
   "metadata": {},
   "outputs": [],
   "source": [
    "beat_curve = proc(act(audio_path))[:,0]"
   ]
  },
  {
   "cell_type": "code",
   "execution_count": 53,
   "metadata": {},
   "outputs": [],
   "source": [
    "beat_curve2 = proc(act(audio_path2))[:,0]"
   ]
  },
  {
   "cell_type": "code",
   "execution_count": 54,
   "metadata": {},
   "outputs": [
    {
     "data": {
      "image/png": "[encoded data removed]",
      "text/plain": [
       "<Figure size 432x288 with 1 Axes>"
      ]
     },
     "metadata": {
      "needs_background": "light"
     },
     "output_type": "display_data"
    }
   ],
   "source": [
    "x = np.linspace(1,beat_curve2.shape[0],beat_curve2.shape[0])\n",
    "plt.figure()\n",
    "plt.plot(x, beat_curve2)\n",
    "plt.show()"
   ]
  },
  {
   "cell_type": "code",
   "execution_count": null,
   "metadata": {},
   "outputs": [],
   "source": []
  },
  {
   "cell_type": "code",
   "execution_count": 22,
   "metadata": {},
   "outputs": [
    {
     "data": {
      "text/plain": [
       "array([ 0.785,  1.155,  1.54 ,  1.945,  2.33 ,  2.74 ,  3.135,  3.525,\n",
       "        3.895,  4.25 ,  4.6  ,  4.955,  5.305,  5.635,  5.99 ,  6.34 ,\n",
       "        6.69 ,  7.045,  7.425,  7.775,  8.145,  8.495,  8.825,  9.195,\n",
       "        9.545,  9.885, 10.235, 10.59 , 10.945, 11.295, 11.65 , 12.01 ,\n",
       "       12.355, 12.705, 13.06 , 13.415, 13.765, 14.12 , 14.47 , 14.83 ,\n",
       "       15.18 , 15.53 , 15.885, 16.235, 16.59 , 16.95 , 17.295, 17.65 ,\n",
       "       18.   , 18.355, 18.71 , 19.065, 19.415, 19.77 , 20.12 , 20.475,\n",
       "       20.825, 21.18 , 21.53 , 21.865, 22.235, 22.59 , 22.94 , 23.29 ,\n",
       "       23.645, 23.995, 24.35 , 24.685, 25.06 , 25.41 , 25.765, 26.12 ,\n",
       "       26.47 , 26.825, 27.175, 27.53 , 27.88 , 28.235, 28.59 , 28.925,\n",
       "       29.295, 29.65 , 30.   , 30.36 , 30.705, 31.06 , 31.415, 31.77 ,\n",
       "       32.12 , 32.47 , 32.825, 33.175, 33.52 , 33.84 , 34.145, 34.48 ,\n",
       "       34.83 , 35.165, 35.515, 35.85 , 36.195, 36.535, 36.94 , 37.32 ,\n",
       "       37.695, 38.09 , 38.455, 38.81 , 39.17 , 39.535, 39.87 , 40.23 ,\n",
       "       40.575, 40.935, 41.29 , 41.635, 41.99 , 42.35 , 42.69 , 43.055,\n",
       "       43.395, 43.76 , 44.135, 44.475, 44.825, 45.165, 45.51 , 45.86 ,\n",
       "       46.215, 46.585, 46.94 , 47.3  , 47.65 , 48.005, 48.36 , 48.72 ,\n",
       "       49.08 , 49.42 , 49.79 , 50.125, 50.475, 50.815, 51.17 , 51.535,\n",
       "       51.88 , 52.235, 52.58 , 52.945, 53.285, 53.645, 53.995, 54.35 ,\n",
       "       54.7  , 55.055, 55.405, 55.76 , 56.11 , 56.465, 56.795, 57.16 ,\n",
       "       57.51 , 57.87 , 58.215, 58.59 , 58.935, 59.29 , 59.625, 59.99 ,\n",
       "       60.345, 60.695, 61.05 , 61.41 , 61.755, 62.11 , 62.455, 62.82 ,\n",
       "       63.17 , 63.525, 63.855, 64.235, 64.575, 64.935, 65.28 , 65.635,\n",
       "       65.98 , 66.345, 66.685, 67.05 , 67.39 , 67.755, 68.095, 68.46 ,\n",
       "       68.81 , 69.17 , 69.515, 69.875, 70.215, 70.585, 70.935, 71.285,\n",
       "       71.645, 71.99 , 72.355, 72.695, 73.06 , 73.405, 73.77 , 74.11 ,\n",
       "       74.47 , 74.815, 75.175, 75.52 , 75.885, 76.225, 76.59 , 76.93 ,\n",
       "       77.295, 77.64 , 78.   , 78.345, 78.705, 79.05 , 79.415, 79.755,\n",
       "       80.115, 80.46 , 80.825, 81.165, 81.53 ])"
      ]
     },
     "execution_count": 22,
     "metadata": {},
     "output_type": "execute_result"
    }
   ],
   "source": [
    "beat_curve = proc(act(audio_path))[:,0]\n",
    "beat_curve"
   ]
  },
  {
   "cell_type": "code",
   "execution_count": 1,
   "metadata": {},
   "outputs": [],
   "source": []
  },
  {
   "cell_type": "code",
   "execution_count": null,
   "metadata": {},
   "outputs": [],
   "source": []
  }
 ],
 "metadata": {
  "kernelspec": {
   "display_name": "Python 3",
   "language": "python",
   "name": "python3"
  },
  "language_info": {
   "codemirror_mode": {
    "name": "ipython",
    "version": 3
   },
   "file_extension": ".py",
   "mimetype": "text/x-python",
   "name": "python",
   "nbconvert_exporter": "python",
   "pygments_lexer": "ipython3",
   "version": "3.5.6"
  }
 },
 "nbformat": 4,
 "nbformat_minor": 4
}