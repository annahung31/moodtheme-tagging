{
 "cells": [
  {
   "cell_type": "code",
   "execution_count": 4,
   "metadata": {},
   "outputs": [],
   "source": [
    "import os\n",
    "import argparse\n",
    "import numpy as np\n",
    "import ipdb\n",
    "from torch.utils.data.dataset import Dataset\n",
    "from torch.utils.data import DataLoader\n",
    "\n",
    "from torch.utils.data.dataloader import default_collate"
   ]
  },
  {
   "cell_type": "code",
   "execution_count": 5,
   "metadata": {},
   "outputs": [],
   "source": [
    "\n",
    "class MSD_Dataset(Dataset):\n",
    "    def __init__(self, Data_path):\n",
    "        ##############################################\n",
    "        ### Initialize paths, transforms, and so on\n",
    "        mean = np.load(\"np_mean_std/mean.npy\").reshape(128,1)\n",
    "        self.mean = np.repeat(mean, 1024, axis=1)\n",
    "        \n",
    "        std = np.load(\"np_mean_std/std.npy\").reshape(128,1)\n",
    "\n",
    "        self.std = np.repeat(std, 1024, axis=1)\n",
    "\n",
    "        self.max = 19.0114\n",
    "        self.min = 0.0\n",
    "        self.min_max_range_normalize(0.9)\n",
    "        self.Data_path = os.listdir(Data_path)\n",
    "        print(len(self.Data_path))\n",
    "    \n",
    "    \n",
    "    def min_max_range_normalize(self, margin):\n",
    "        self.a = margin * (2.0 / (self.max - self.min))\n",
    "        self.b = margin * (-2.0 * self.min / (self.max - self.min) - 1.0)\n",
    "    \n",
    "    def min_max_normalize(self, data):\n",
    "        \n",
    "        data = data *self.a + self.b\n",
    "        return data\n",
    "    \n",
    "    def normalize(self, data):\n",
    "        data = np.divide((data-self.mean), self.std)\n",
    "        return data\n",
    "    \n",
    "    def __getitem__(self, index):\n",
    "        \n",
    "        try:\n",
    "            single_path = self.Data_path[index]\n",
    "            ipdb.set_trace()\n",
    "            mel_spec = np.load(os.path.join('NewData/train',single_path), allow_pickle=True)[:,:1024]\n",
    "        \n",
    "            assert mel_spec.shape ==(128,1024)\n",
    "        \n",
    "        except AssertionError:\n",
    "            return None\n",
    "            \n",
    "        except OSError:\n",
    "            return None\n",
    "#             print(single_path)\n",
    "#             return None\n",
    "\n",
    "        mel_spec = np.log(mel_spec*10000 +1)\n",
    "        mel_spec  = self.min_max_normalize(mel_spec)\n",
    "\n",
    "        return mel_spec\n",
    "\n",
    "    def __len__(self):\n",
    "        ##############################################\n",
    "        ### Indicate the total size of the dataset\n",
    "        ##############################################\n",
    "        return len(self.Data_path)\n",
    "    \n",
    "def my_collate(batch):\n",
    "    batch = list(filter(lambda x : x is not None, batch))        \n",
    "\n",
    "    batch = torch.FloatTensor(batch)\n",
    "    # return default_collate(batch)\n",
    "    return batch"
   ]
  },
  {
   "cell_type": "code",
   "execution_count": 6,
   "metadata": {},
   "outputs": [
    {
     "name": "stdout",
     "output_type": "stream",
     "text": [
      "2\n"
     ]
    }
   ],
   "source": [
    "msd_D = MSD_Dataset('NewData/train') "
   ]
  },
  {
   "cell_type": "code",
   "execution_count": 52,
   "metadata": {},
   "outputs": [
    {
     "data": {
      "text/plain": [
       "'TRAAAMQ128F1460CD3.npy'"
      ]
     },
     "execution_count": 52,
     "metadata": {},
     "output_type": "execute_result"
    }
   ],
   "source": [
    "Data_path = os.listdir('NewData/train')\n",
    "single_path = Data_path[2]\n",
    "single_path"
   ]
  },
  {
   "cell_type": "code",
   "execution_count": 53,
   "metadata": {},
   "outputs": [
    {
     "data": {
      "text/plain": [
       "'NewData/train/TRAAAMQ128F1460CD3.npy'"
      ]
     },
     "execution_count": 53,
     "metadata": {},
     "output_type": "execute_result"
    }
   ],
   "source": [
    "audio = os.path.join('NewData/train',single_path)\n",
    "audio"
   ]
  },
  {
   "cell_type": "code",
   "execution_count": 54,
   "metadata": {},
   "outputs": [],
   "source": [
    "mel_spec = np.load(os.path.join('NewData/train',single_path))"
   ]
  },
  {
   "cell_type": "code",
   "execution_count": 55,
   "metadata": {},
   "outputs": [
    {
     "data": {
      "text/plain": [
       "(128, 1024)"
      ]
     },
     "execution_count": 55,
     "metadata": {},
     "output_type": "execute_result"
    }
   ],
   "source": [
    "mel_spec.shape"
   ]
  },
  {
   "cell_type": "code",
   "execution_count": 56,
   "metadata": {},
   "outputs": [],
   "source": [
    "aaa = np.load('/mnt/md0/user_annahung/auto_tagging/mtg-jamendo-dataset/scripts/baseline/vqvae/00/699100.npy')"
   ]
  },
  {
   "cell_type": "code",
   "execution_count": 57,
   "metadata": {},
   "outputs": [
    {
     "data": {
      "text/plain": [
       "(128, 1024)"
      ]
     },
     "execution_count": 57,
     "metadata": {},
     "output_type": "execute_result"
    }
   ],
   "source": [
    "aaa.shape"
   ]
  },
  {
   "cell_type": "code",
   "execution_count": 61,
   "metadata": {},
   "outputs": [],
   "source": [
    "import glob\n",
    "files = glob.glob('/mnt/md0/user_annahung/auto_tagging/mtg-jamendo-dataset/scripts/baseline/vqvae/00/*.npy')\n",
    "for file in files:\n",
    "    aaa = np.load(file)\n",
    "    assert aaa.shape == (128, 1024)"
   ]
  },
  {
   "cell_type": "code",
   "execution_count": null,
   "metadata": {},
   "outputs": [],
   "source": []
  }
 ],
 "metadata": {
  "kernelspec": {
   "display_name": "Python 3",
   "language": "python",
   "name": "python3"
  },
  "language_info": {
   "codemirror_mode": {
    "name": "ipython",
    "version": 3
   },
   "file_extension": ".py",
   "mimetype": "text/x-python",
   "name": "python",
   "nbconvert_exporter": "python",
   "pygments_lexer": "ipython3",
   "version": "3.5.6"
  }
 },
 "nbformat": 4,
 "nbformat_minor": 4
}
